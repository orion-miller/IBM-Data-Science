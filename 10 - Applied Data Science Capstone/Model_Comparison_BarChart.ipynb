{
 "cells": [
  {
   "cell_type": "code",
   "execution_count": 2,
   "id": "88a01cd0-ae7e-4827-8d28-a61fecd24008",
   "metadata": {},
   "outputs": [
    {
     "name": "stdout",
     "output_type": "stream",
     "text": [
      "Requirement already satisfied: matplotlib in c:\\users\\orion\\anaconda3\\lib\\site-packages (3.4.3)\n",
      "Requirement already satisfied: pillow>=6.2.0 in c:\\users\\orion\\anaconda3\\lib\\site-packages (from matplotlib) (8.4.0)\n",
      "Requirement already satisfied: kiwisolver>=1.0.1 in c:\\users\\orion\\anaconda3\\lib\\site-packages (from matplotlib) (1.3.1)\n",
      "Requirement already satisfied: pyparsing>=2.2.1 in c:\\users\\orion\\anaconda3\\lib\\site-packages (from matplotlib) (3.0.4)\n",
      "Requirement already satisfied: python-dateutil>=2.7 in c:\\users\\orion\\appdata\\roaming\\python\\python39\\site-packages (from matplotlib) (2.8.2)\n",
      "Requirement already satisfied: numpy>=1.16 in c:\\users\\orion\\anaconda3\\lib\\site-packages (from matplotlib) (1.20.3)\n",
      "Requirement already satisfied: cycler>=0.10 in c:\\users\\orion\\anaconda3\\lib\\site-packages (from matplotlib) (0.10.0)\n",
      "Requirement already satisfied: six in c:\\users\\orion\\appdata\\roaming\\python\\python39\\site-packages (from cycler>=0.10->matplotlib) (1.16.0)\n",
      "Requirement already satisfied: numpy in c:\\users\\orion\\anaconda3\\lib\\site-packages (1.20.3)\n"
     ]
    },
    {
     "data": {
      "text/plain": [
       "[[0.833333, 0.84507, 0.882353, 0.819444],\n",
       " [0.909091, 0.916031, 0.9375, 0.900763],\n",
       " [0.86667, 0.877778, 0.911111, 0.855556]]"
      ]
     },
     "execution_count": 2,
     "metadata": {},
     "output_type": "execute_result"
    }
   ],
   "source": [
    "# Create bar chart comparing accuracy of different models on predicting launch success\n",
    "\n",
    "!pip install matplotlib\n",
    "!pip install numpy\n",
    "\n",
    "import matplotlib.pyplot as plt\n",
    "import numpy as np\n",
    "\n",
    "LogReg_JS  = 0.833333\n",
    "LogReg_F1  = 0.909091\n",
    "LogReg_Acc = 0.86667\n",
    "\n",
    "SVM_JS  = 0.845070\n",
    "SVM_F1  = 0.916031\n",
    "SVM_Acc = 0.877778\n",
    "\n",
    "Tree_JS  = 0.882353\n",
    "Tree_F1  = 0.937500\n",
    "Tree_Acc = 0.911111\n",
    "\n",
    "KNN_JS  = 0.819444\n",
    "KNN_F1  = 0.900763\n",
    "KNN_Acc = 0.855556\n",
    "\n",
    "Plot_Array = [[LogReg_JS, SVM_JS, Tree_JS, KNN_JS], \n",
    "              [LogReg_F1, SVM_F1, Tree_F1, KNN_F1], \n",
    "              [LogReg_Acc, SVM_Acc, Tree_Acc, KNN_Acc]]\n",
    "Plot_Array"
   ]
  },
  {
   "cell_type": "code",
   "execution_count": 7,
   "id": "0f88dad8-e7a3-4801-b810-398ffaf6a00e",
   "metadata": {},
   "outputs": [
    {
     "data": {
      "text/plain": [
       "<BarContainer object of 4 artists>"
      ]
     },
     "execution_count": 7,
     "metadata": {},
     "output_type": "execute_result"
    },
    {
     "data": {
      "image/png": "[encoded data removed]",
      "text/plain": [
       "<Figure size 432x288 with 1 Axes>"
      ]
     },
     "metadata": {
      "needs_background": "light"
     },
     "output_type": "display_data"
    }
   ],
   "source": [
    "X = np.arange(4)\n",
    "fig = plt.figure()\n",
    "ax = fig.add_axes([0,0,1,1])\n",
    "ax.bar(X + 0.00, Plot_Array[0], color = 'b', width = 0.25, label = 'Jaccard')\n",
    "ax.bar(X + 0.25, Plot_Array[1], color = 'g', width = 0.25, label = 'F1')\n",
    "ax.bar(X + 0.50, Plot_Array[2], color = 'r', width = 0.25, label = 'Accuracy')"
   ]
  },
  {
   "cell_type": "code",
   "execution_count": null,
   "id": "82fc5074-7092-4cf3-9a1c-ca3793063703",
   "metadata": {},
   "outputs": [],
   "source": []
  }
 ],
 "metadata": {
  "kernelspec": {
   "display_name": "Python 3 (ipykernel)",
   "language": "python",
   "name": "python3"
  },
  "language_info": {
   "codemirror_mode": {
    "name": "ipython",
    "version": 3
   },
   "file_extension": ".py",
   "mimetype": "text/x-python",
   "name": "python",
   "nbconvert_exporter": "python",
   "pygments_lexer": "ipython3",
   "version": "3.9.7"
  }
 },
 "nbformat": 4,
 "nbformat_minor": 5
}
